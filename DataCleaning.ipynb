{
 "cells": [
  {
   "cell_type": "code",
   "execution_count": 6,
   "id": "ca2584fb-bb39-47ac-bb8a-970859a49db1",
   "metadata": {},
   "outputs": [],
   "source": [
    "import math\n",
    "import sqlite3\n",
    "from datetime import datetime\n",
    "\n",
    "import pandas as pd\n",
    "import seaborn as sns"
   ]
  },
  {
   "cell_type": "code",
   "execution_count": 27,
   "id": "d59f04a2-5ee0-4931-a429-5cda847eb8d5",
   "metadata": {},
   "outputs": [],
   "source": [
    "sns.set(rc={'figure.figsize':(15.7,8.27)})"
   ]
  },
  {
   "cell_type": "code",
   "execution_count": 8,
   "id": "18162639-aa31-4196-915b-0cb51feedd21",
   "metadata": {},
   "outputs": [],
   "source": [
    "conn = sqlite3.connect('olist.db')\n",
    "conn.row_factory = sqlite3.Row"
   ]
  },
  {
   "cell_type": "code",
   "execution_count": 9,
   "id": "cbe9f63c-a854-4d73-9bd3-6fd9c3ea3ec5",
   "metadata": {},
   "outputs": [],
   "source": [
    "cursor = conn.cursor()"
   ]
  },
  {
   "cell_type": "markdown",
   "id": "aca3d701-7efc-4bd9-86cc-372eae244d2f",
   "metadata": {},
   "source": [
    "Objektif yang akan dilakukan:\n",
    "\n",
    "1. Melakukan analisa terhadap metode pembayaran yang banyak digunakan\n",
    "2. Melihat korelasi antara skor review dengan ketepatan perkiraan pengiriman\n",
    "3. Melihat korelasi antara skor review dengan status order"
   ]
  },
  {
   "cell_type": "markdown",
   "id": "4e60ef23-336f-40d4-a1f6-dc125874e7e3",
   "metadata": {
    "tags": []
   },
   "source": [
    "# Query dan Pembersihan Data"
   ]
  },
  {
   "cell_type": "markdown",
   "id": "16d71b19-7abf-4736-a35f-503257870ff4",
   "metadata": {},
   "source": [
    "## Mengquery data"
   ]
  },
  {
   "cell_type": "markdown",
   "id": "a4b82319-963a-4eed-93ea-5c81674591c0",
   "metadata": {},
   "source": [
    "Data yang digunakan adalah data dari tabel:\n",
    "\n",
    "1. olist_order_dataset\n",
    "2. olist_order_payments_dataset\n",
    "3. olist_order_reviews_dataset\n",
    "\n",
    "Data dari ketiga tabel ini akan digunakan dalam memenuhi ketiga tujuan tadi."
   ]
  },
  {
   "cell_type": "code",
   "execution_count": 10,
   "id": "f623c80c-9f79-4879-9fae-091b75e415a8",
   "metadata": {},
   "outputs": [],
   "source": [
    "query = '''\n",
    "select ood.order_id, ood.order_purchase_timestamp purchase_timestamp,\n",
    "\toopd.payment_type, oopd.payment_sequential, oopd.payment_value, ood.order_status,\n",
    "\tood.order_estimated_delivery_date, ood.order_delivered_customer_date, oord.review_score \n",
    "from olist_order_dataset ood \n",
    "left join olist_order_payments_dataset oopd \n",
    "\ton ood.order_id = oopd.order_id \n",
    "left join olist_order_reviews_dataset oord \n",
    "\ton ood.order_id  = oord.order_id\n",
    "'''\n",
    "cursor.execute(query)\n",
    "rows = [dict(i) for i in cursor.fetchall()]"
   ]
  },
  {
   "cell_type": "code",
   "execution_count": 11,
   "id": "e7aebae3-a476-448e-a61a-f57aa0d9df27",
   "metadata": {},
   "outputs": [],
   "source": [
    "olist_df = pd.DataFrame(rows)"
   ]
  },
  {
   "cell_type": "code",
   "execution_count": 12,
   "id": "d5892410-912d-4ca4-bd9b-43036ac100a6",
   "metadata": {},
   "outputs": [
    {
     "data": {
      "text/plain": [
       "(104478, 9)"
      ]
     },
     "execution_count": 12,
     "metadata": {},
     "output_type": "execute_result"
    }
   ],
   "source": [
    "olist_df.shape"
   ]
  },
  {
   "cell_type": "markdown",
   "id": "6291fa3a-e4f1-4b5f-a3a5-236a24bda387",
   "metadata": {},
   "source": [
    "### Membuat agar data sesuai dalam rentang 3 bulanan"
   ]
  },
  {
   "cell_type": "markdown",
   "id": "0886348e-4d9f-43c3-958c-5321308f18cc",
   "metadata": {},
   "source": [
    "Karena jumlah datanya cukup banyak, yaitu antara pertengahan 2016 sampai dengan pertengahan 2018 maka dalam analisanya data-data ini akan dikelompokkan dalam triwulan.\n",
    "Sehingga data yang tidak genap triwulannya tidak akan masuk dalam data yang dianalisa."
   ]
  },
  {
   "cell_type": "code",
   "execution_count": 13,
   "id": "d55bd4b0-6cbd-435b-854d-a443cebaec0d",
   "metadata": {},
   "outputs": [
    {
     "name": "stdout",
     "output_type": "stream",
     "text": [
      "Lowest date  2016-09-04 21:15:19\n",
      "Latest date  2018-10-17 17:30:18\n"
     ]
    }
   ],
   "source": [
    "print(\"Lowest date \", olist_df.purchase_timestamp.min())\n",
    "print(\"Latest date \", olist_df.purchase_timestamp.max())"
   ]
  },
  {
   "cell_type": "code",
   "execution_count": 14,
   "id": "195067b8-4ef7-4336-aa22-4729362e8e39",
   "metadata": {},
   "outputs": [],
   "source": [
    "olist_df = olist_df[(olist_df.purchase_timestamp >= '2016-10-01') & (olist_df.purchase_timestamp<'2018-10-01')]"
   ]
  },
  {
   "cell_type": "code",
   "execution_count": 15,
   "id": "98e239ce-c1e5-4f60-9d3b-c19bd8c554e3",
   "metadata": {},
   "outputs": [
    {
     "name": "stdout",
     "output_type": "stream",
     "text": [
      "Lowest date  2016-10-02 22:07:52\n",
      "Latest date  2018-09-29 09:13:03\n"
     ]
    }
   ],
   "source": [
    "print(\"Lowest date \", olist_df.purchase_timestamp.min())\n",
    "print(\"Latest date \", olist_df.purchase_timestamp.max())"
   ]
  },
  {
   "cell_type": "markdown",
   "id": "16ad8e62-d670-4095-b0e9-e4c750e4663c",
   "metadata": {},
   "source": [
    "### Mencari baris bernilai Null dan Nan"
   ]
  },
  {
   "cell_type": "code",
   "execution_count": 16,
   "id": "c23833e4-2ed7-4265-983e-d31212471a2d",
   "metadata": {},
   "outputs": [
    {
     "data": {
      "text/plain": [
       "order_id                         False\n",
       "purchase_timestamp               False\n",
       "payment_type                     False\n",
       "payment_sequential               False\n",
       "payment_value                    False\n",
       "order_status                     False\n",
       "order_estimated_delivery_date    False\n",
       "order_delivered_customer_date     True\n",
       "review_score                      True\n",
       "dtype: bool"
      ]
     },
     "execution_count": 16,
     "metadata": {},
     "output_type": "execute_result"
    }
   ],
   "source": [
    "olist_df.isna().any()"
   ]
  },
  {
   "cell_type": "code",
   "execution_count": 17,
   "id": "468e811e-7085-4272-8676-0a9623ef822b",
   "metadata": {},
   "outputs": [
    {
     "data": {
      "text/plain": [
       "order_id                         False\n",
       "purchase_timestamp               False\n",
       "payment_type                     False\n",
       "payment_sequential               False\n",
       "payment_value                    False\n",
       "order_status                     False\n",
       "order_estimated_delivery_date    False\n",
       "order_delivered_customer_date     True\n",
       "review_score                      True\n",
       "dtype: bool"
      ]
     },
     "execution_count": 17,
     "metadata": {},
     "output_type": "execute_result"
    }
   ],
   "source": [
    "olist_df.isnull().any()"
   ]
  },
  {
   "cell_type": "markdown",
   "id": "ec2f84b3-9a4d-4962-8ebe-2f209a1fc4ac",
   "metadata": {},
   "source": [
    "Dari kedua pengecekan diatas diketahui bahwa ada data pada kolom order_delivered_customer_date dan kolom review_score yang kosong.\n",
    "Data kosong pada review_score dapat dimaklumi karena tidak semua order yang ada, diberi review oleh pengguna.\n",
    "Namun kekosongan pada review_score dapat memiliki beberapa arti, diantaranya:\n",
    "\n",
    "1. Barang tidak sampai\n",
    "2. Pesanan dibatalkan"
   ]
  },
  {
   "cell_type": "code",
   "execution_count": 19,
   "id": "0aa87e0d-69cb-4e68-9db6-4f74383e8ca3",
   "metadata": {},
   "outputs": [
    {
     "data": {
      "text/plain": [
       "order_status\n",
       "approved          2\n",
       "canceled        656\n",
       "created           5\n",
       "delivered         8\n",
       "invoiced        329\n",
       "processing      320\n",
       "shipped        1176\n",
       "unavailable     651\n",
       "Name: order_id, dtype: int64"
      ]
     },
     "execution_count": 19,
     "metadata": {},
     "output_type": "execute_result"
    }
   ],
   "source": [
    "olist_df[(olist_df.order_delivered_customer_date.isna())].groupby('order_status')['order_id'].count()"
   ]
  },
  {
   "cell_type": "markdown",
   "id": "d20cf3d2-a2b0-417c-aa7b-802645441fef",
   "metadata": {},
   "source": [
    "Dari status pengiriman yang ada terhadap tanggal kedatangan kosong, ada yang statusnya delivered.\n",
    "Untuk kasus ini berarti ada kesalahan dalam input data.\n",
    "Namun karena kasusnya tidak banyak, kita bisa mengabaikan hal tersebut."
   ]
  },
  {
   "cell_type": "markdown",
   "id": "3b4f84fa-7864-4a9a-83c9-f822052eba88",
   "metadata": {},
   "source": [
    "### Melihat jenis-jenis pembayaran"
   ]
  },
  {
   "cell_type": "markdown",
   "id": "020e4076-d3ba-46d3-ae42-fc19ace3506f",
   "metadata": {},
   "source": [
    "Kita mendapati adanya jenis pembayaran `not_defined`, namun karena status dari order tersebut adalah canceled, maka kemungkinannya adalah pelanggan belum sampai ke tahap pembayaran.\n",
    "Namun review dari kasus ini tidak kosong, sehingga kita tidak bisa mengabaikan data ini."
   ]
  },
  {
   "cell_type": "code",
   "execution_count": 198,
   "id": "572a4b64-de7e-499c-ba77-b09bcefd462e",
   "metadata": {},
   "outputs": [
    {
     "data": {
      "text/plain": [
       "array(['credit_card', 'voucher', 'boleto', 'debit_card', 'not_defined'],\n",
       "      dtype=object)"
      ]
     },
     "execution_count": 198,
     "metadata": {},
     "output_type": "execute_result"
    }
   ],
   "source": [
    "olist_df.payment_type.unique()"
   ]
  },
  {
   "cell_type": "code",
   "execution_count": 200,
   "id": "2c0640af-3736-4b14-97ac-1bc54fdefbc0",
   "metadata": {},
   "outputs": [
    {
     "data": {
      "text/html": [
       "<div>\n",
       "<style scoped>\n",
       "    .dataframe tbody tr th:only-of-type {\n",
       "        vertical-align: middle;\n",
       "    }\n",
       "\n",
       "    .dataframe tbody tr th {\n",
       "        vertical-align: top;\n",
       "    }\n",
       "\n",
       "    .dataframe thead th {\n",
       "        text-align: right;\n",
       "    }\n",
       "</style>\n",
       "<table border=\"1\" class=\"dataframe\">\n",
       "  <thead>\n",
       "    <tr style=\"text-align: right;\">\n",
       "      <th></th>\n",
       "      <th>order_id</th>\n",
       "      <th>purchase_timestamp</th>\n",
       "      <th>payment_type</th>\n",
       "      <th>payment_sequential</th>\n",
       "      <th>payment_value</th>\n",
       "      <th>order_status</th>\n",
       "      <th>order_estimated_delivery_date</th>\n",
       "      <th>order_delivered_customer_date</th>\n",
       "      <th>review_score</th>\n",
       "    </tr>\n",
       "  </thead>\n",
       "  <tbody>\n",
       "    <tr>\n",
       "      <th>1181</th>\n",
       "      <td>00b1cb0320190ca0daa2c88b35206009</td>\n",
       "      <td>2018-08-28 15:26:39</td>\n",
       "      <td>not_defined</td>\n",
       "      <td>1.0</td>\n",
       "      <td>0.0</td>\n",
       "      <td>canceled</td>\n",
       "      <td>2018-09-12 00:00:00</td>\n",
       "      <td>None</td>\n",
       "      <td>1.0</td>\n",
       "    </tr>\n",
       "    <tr>\n",
       "      <th>42007</th>\n",
       "      <td>4637ca194b6387e2d538dc89b124b0ee</td>\n",
       "      <td>2018-09-03 14:14:25</td>\n",
       "      <td>not_defined</td>\n",
       "      <td>1.0</td>\n",
       "      <td>0.0</td>\n",
       "      <td>canceled</td>\n",
       "      <td>2018-09-10 00:00:00</td>\n",
       "      <td>None</td>\n",
       "      <td>3.0</td>\n",
       "    </tr>\n",
       "    <tr>\n",
       "      <th>42335</th>\n",
       "      <td>c8c528189310eaa44a745b8d9d26908b</td>\n",
       "      <td>2018-08-28 20:05:14</td>\n",
       "      <td>not_defined</td>\n",
       "      <td>1.0</td>\n",
       "      <td>0.0</td>\n",
       "      <td>canceled</td>\n",
       "      <td>2018-09-11 00:00:00</td>\n",
       "      <td>None</td>\n",
       "      <td>1.0</td>\n",
       "    </tr>\n",
       "  </tbody>\n",
       "</table>\n",
       "</div>"
      ],
      "text/plain": [
       "                               order_id   purchase_timestamp payment_type  \\\n",
       "1181   00b1cb0320190ca0daa2c88b35206009  2018-08-28 15:26:39  not_defined   \n",
       "42007  4637ca194b6387e2d538dc89b124b0ee  2018-09-03 14:14:25  not_defined   \n",
       "42335  c8c528189310eaa44a745b8d9d26908b  2018-08-28 20:05:14  not_defined   \n",
       "\n",
       "       payment_sequential  payment_value order_status  \\\n",
       "1181                  1.0            0.0     canceled   \n",
       "42007                 1.0            0.0     canceled   \n",
       "42335                 1.0            0.0     canceled   \n",
       "\n",
       "      order_estimated_delivery_date order_delivered_customer_date  \\\n",
       "1181            2018-09-12 00:00:00                          None   \n",
       "42007           2018-09-10 00:00:00                          None   \n",
       "42335           2018-09-11 00:00:00                          None   \n",
       "\n",
       "       review_score  \n",
       "1181            1.0  \n",
       "42007           3.0  \n",
       "42335           1.0  "
      ]
     },
     "execution_count": 200,
     "metadata": {},
     "output_type": "execute_result"
    }
   ],
   "source": [
    "olist_df[olist_df['payment_type']== 'not_defined']"
   ]
  },
  {
   "cell_type": "markdown",
   "id": "c17701e8-d662-4695-9d3d-f9cf4fe9cd81",
   "metadata": {},
   "source": [
    "### Menambahkan data quarter"
   ]
  },
  {
   "cell_type": "code",
   "execution_count": 21,
   "id": "11676090-a812-477f-a8cb-ea49238953a2",
   "metadata": {},
   "outputs": [],
   "source": [
    "def define_quarters(timestamp:str):\n",
    "    year, month = timestamp.split('-')[:2]\n",
    "    quarter = math.ceil(int(month)/3)\n",
    "    return f'{year}.{str(quarter)}'\n",
    "\n",
    "olist_df['quarter'] = olist_df['purchase_timestamp'].apply(define_quarters)\n",
    "olist_df.sort_values('quarter', inplace=True)"
   ]
  },
  {
   "cell_type": "markdown",
   "id": "05a1f21c-177e-4c47-80c2-69375058b29e",
   "metadata": {
    "tags": []
   },
   "source": [
    "# Menganalisa Metode Pembayaran"
   ]
  },
  {
   "cell_type": "code",
   "execution_count": 22,
   "id": "3142fe23-a1e3-4b5d-9644-aa0f26c2b48b",
   "metadata": {},
   "outputs": [],
   "source": [
    "payment_df = olist_df[olist_df.payment_type!='not_defined'][['order_id', 'purchase_timestamp', 'payment_type', 'payment_sequential', 'payment_value', 'quarter']]"
   ]
  },
  {
   "cell_type": "code",
   "execution_count": 23,
   "id": "32013e7a-4b42-4cfb-8b09-5f38b704121c",
   "metadata": {},
   "outputs": [
    {
     "data": {
      "text/html": [
       "<div>\n",
       "<style scoped>\n",
       "    .dataframe tbody tr th:only-of-type {\n",
       "        vertical-align: middle;\n",
       "    }\n",
       "\n",
       "    .dataframe tbody tr th {\n",
       "        vertical-align: top;\n",
       "    }\n",
       "\n",
       "    .dataframe thead th {\n",
       "        text-align: right;\n",
       "    }\n",
       "</style>\n",
       "<table border=\"1\" class=\"dataframe\">\n",
       "  <thead>\n",
       "    <tr style=\"text-align: right;\">\n",
       "      <th></th>\n",
       "      <th>order_id</th>\n",
       "      <th>purchase_timestamp</th>\n",
       "      <th>payment_type</th>\n",
       "      <th>payment_sequential</th>\n",
       "      <th>payment_value</th>\n",
       "      <th>quarter</th>\n",
       "    </tr>\n",
       "  </thead>\n",
       "  <tbody>\n",
       "    <tr>\n",
       "      <th>29756</th>\n",
       "      <td>89f586f0cbddc6428831c41c8c333c66</td>\n",
       "      <td>2016-10-09 12:46:25</td>\n",
       "      <td>credit_card</td>\n",
       "      <td>1.0</td>\n",
       "      <td>44.49</td>\n",
       "      <td>2016.4</td>\n",
       "    </tr>\n",
       "    <tr>\n",
       "      <th>31712</th>\n",
       "      <td>92d731517f17c26f16182d45498c4c3d</td>\n",
       "      <td>2016-10-05 11:23:13</td>\n",
       "      <td>boleto</td>\n",
       "      <td>1.0</td>\n",
       "      <td>221.84</td>\n",
       "      <td>2016.4</td>\n",
       "    </tr>\n",
       "    <tr>\n",
       "      <th>13250</th>\n",
       "      <td>a241bea87dcdd0160ca94ebdba5bdbb9</td>\n",
       "      <td>2016-10-06 09:22:35</td>\n",
       "      <td>credit_card</td>\n",
       "      <td>1.0</td>\n",
       "      <td>297.35</td>\n",
       "      <td>2016.4</td>\n",
       "    </tr>\n",
       "    <tr>\n",
       "      <th>72344</th>\n",
       "      <td>7559c51df991c6861e6a8be5fb1e3751</td>\n",
       "      <td>2016-10-07 23:18:38</td>\n",
       "      <td>boleto</td>\n",
       "      <td>1.0</td>\n",
       "      <td>69.49</td>\n",
       "      <td>2016.4</td>\n",
       "    </tr>\n",
       "    <tr>\n",
       "      <th>65630</th>\n",
       "      <td>54bb06e1ca86bd99ee2a8d6288bf4ede</td>\n",
       "      <td>2016-10-06 13:38:39</td>\n",
       "      <td>credit_card</td>\n",
       "      <td>1.0</td>\n",
       "      <td>90.23</td>\n",
       "      <td>2016.4</td>\n",
       "    </tr>\n",
       "  </tbody>\n",
       "</table>\n",
       "</div>"
      ],
      "text/plain": [
       "                               order_id   purchase_timestamp payment_type  \\\n",
       "29756  89f586f0cbddc6428831c41c8c333c66  2016-10-09 12:46:25  credit_card   \n",
       "31712  92d731517f17c26f16182d45498c4c3d  2016-10-05 11:23:13       boleto   \n",
       "13250  a241bea87dcdd0160ca94ebdba5bdbb9  2016-10-06 09:22:35  credit_card   \n",
       "72344  7559c51df991c6861e6a8be5fb1e3751  2016-10-07 23:18:38       boleto   \n",
       "65630  54bb06e1ca86bd99ee2a8d6288bf4ede  2016-10-06 13:38:39  credit_card   \n",
       "\n",
       "       payment_sequential  payment_value quarter  \n",
       "29756                 1.0          44.49  2016.4  \n",
       "31712                 1.0         221.84  2016.4  \n",
       "13250                 1.0         297.35  2016.4  \n",
       "72344                 1.0          69.49  2016.4  \n",
       "65630                 1.0          90.23  2016.4  "
      ]
     },
     "execution_count": 23,
     "metadata": {},
     "output_type": "execute_result"
    }
   ],
   "source": [
    "payment_df.head()"
   ]
  },
  {
   "cell_type": "markdown",
   "id": "fa80fcdc-2c2f-4617-8a63-b86ac462df1a",
   "metadata": {},
   "source": [
    "Menghitung jumlah transaksi dari masing-masing jenis pembayaran pada setiap triwulannya."
   ]
  },
  {
   "cell_type": "code",
   "execution_count": 24,
   "id": "da7679a8-2f93-4acf-9909-6afb8685ba89",
   "metadata": {},
   "outputs": [],
   "source": [
    "payment_sum_df = (payment_df.groupby(['payment_type', 'quarter'], as_index=False)\n",
    "                    .agg({\"payment_value\":\"mean\", \"order_id\":\"count\"})\n",
    "                 )"
   ]
  },
  {
   "cell_type": "code",
   "execution_count": 25,
   "id": "ebab3774-8f24-459d-9018-2ea875eefd0e",
   "metadata": {},
   "outputs": [
    {
     "data": {
      "text/html": [
       "<div>\n",
       "<style scoped>\n",
       "    .dataframe tbody tr th:only-of-type {\n",
       "        vertical-align: middle;\n",
       "    }\n",
       "\n",
       "    .dataframe tbody tr th {\n",
       "        vertical-align: top;\n",
       "    }\n",
       "\n",
       "    .dataframe thead th {\n",
       "        text-align: right;\n",
       "    }\n",
       "</style>\n",
       "<table border=\"1\" class=\"dataframe\">\n",
       "  <thead>\n",
       "    <tr style=\"text-align: right;\">\n",
       "      <th></th>\n",
       "      <th>payment_type</th>\n",
       "      <th>quarter</th>\n",
       "      <th>payment_value</th>\n",
       "      <th>order_id</th>\n",
       "    </tr>\n",
       "  </thead>\n",
       "  <tbody>\n",
       "    <tr>\n",
       "      <th>0</th>\n",
       "      <td>boleto</td>\n",
       "      <td>2016.4</td>\n",
       "      <td>153.635873</td>\n",
       "      <td>63</td>\n",
       "    </tr>\n",
       "    <tr>\n",
       "      <th>1</th>\n",
       "      <td>boleto</td>\n",
       "      <td>2017.1</td>\n",
       "      <td>138.200585</td>\n",
       "      <td>1197</td>\n",
       "    </tr>\n",
       "    <tr>\n",
       "      <th>2</th>\n",
       "      <td>boleto</td>\n",
       "      <td>2017.2</td>\n",
       "      <td>160.609019</td>\n",
       "      <td>1988</td>\n",
       "    </tr>\n",
       "    <tr>\n",
       "      <th>3</th>\n",
       "      <td>boleto</td>\n",
       "      <td>2017.3</td>\n",
       "      <td>142.005046</td>\n",
       "      <td>2703</td>\n",
       "    </tr>\n",
       "    <tr>\n",
       "      <th>4</th>\n",
       "      <td>boleto</td>\n",
       "      <td>2017.4</td>\n",
       "      <td>145.357927</td>\n",
       "      <td>3691</td>\n",
       "    </tr>\n",
       "  </tbody>\n",
       "</table>\n",
       "</div>"
      ],
      "text/plain": [
       "  payment_type quarter  payment_value  order_id\n",
       "0       boleto  2016.4     153.635873        63\n",
       "1       boleto  2017.1     138.200585      1197\n",
       "2       boleto  2017.2     160.609019      1988\n",
       "3       boleto  2017.3     142.005046      2703\n",
       "4       boleto  2017.4     145.357927      3691"
      ]
     },
     "execution_count": 25,
     "metadata": {},
     "output_type": "execute_result"
    }
   ],
   "source": [
    "payment_sum_df.head()"
   ]
  },
  {
   "cell_type": "markdown",
   "id": "4c68db09-34b2-47a9-a5b1-f05053299090",
   "metadata": {},
   "source": [
    "Melakukan visualisasi baik dari jumlah nilai transaksi dan juga banyaknya pembayaran yang dilakukan."
   ]
  },
  {
   "cell_type": "code",
   "execution_count": 28,
   "id": "836069ce-20b7-4055-9c78-125e56d33045",
   "metadata": {},
   "outputs": [
    {
     "data": {
      "text/plain": [
       "<AxesSubplot:xlabel='quarter', ylabel='payment_value'>"
      ]
     },
     "execution_count": 28,
     "metadata": {},
     "output_type": "execute_result"
    },
    {
     "data": {
      "image/png": "[encoded data removed]",
      "text/plain": [
       "<Figure size 1130.4x595.44 with 1 Axes>"
      ]
     },
     "metadata": {},
     "output_type": "display_data"
    }
   ],
   "source": [
    "sns.barplot(data=payment_sum_df, x='quarter', y='payment_value', hue='payment_type')"
   ]
  },
  {
   "cell_type": "code",
   "execution_count": 30,
   "id": "362cab21-ca46-4799-9593-7a2f88cc057a",
   "metadata": {},
   "outputs": [
    {
     "data": {
      "text/plain": [
       "<AxesSubplot:xlabel='quarter', ylabel='order_id'>"
      ]
     },
     "execution_count": 30,
     "metadata": {},
     "output_type": "execute_result"
    },
    {
     "data": {
      "image/png": "[encoded data removed]",
      "text/plain": [
       "<Figure size 1130.4x595.44 with 1 Axes>"
      ]
     },
     "metadata": {},
     "output_type": "display_data"
    }
   ],
   "source": [
    "sns.barplot(data=payment_sum_df, x='quarter', y='order_id', hue='payment_type')"
   ]
  },
  {
   "cell_type": "markdown",
   "id": "ee1c80cd-181e-42e1-8ad5-3b88fd31655b",
   "metadata": {},
   "source": [
    "Dari kedua grafik diatas diketahui bahwa tipe pembayaran boleto, kartu kredit, dan kartu debit memiliki nilai yang cukup bersaing. Namun bila melihat dari jumlah transaksinya, maka kita dapati bahwa jumlahnya tidak berimbang. Dengan jumlah transaksi dari kartu kredit sangat tinggi, dan boleto dan kartu debit cukup rendah.\n",
    "\n",
    "Sehingga kita juga perlu melihat rata-rata nilai transaksi dari tiap pembayaran yang ada."
   ]
  },
  {
   "cell_type": "code",
   "execution_count": 31,
   "id": "58bfe340-bfa7-4fb8-8d76-505abed46a34",
   "metadata": {},
   "outputs": [],
   "source": [
    "def get_ratio(row):\n",
    "    ratio = row['payment_value']/row['order_id']\n",
    "    return ratio"
   ]
  },
  {
   "cell_type": "code",
   "execution_count": 32,
   "id": "584c7593-1ac7-44e0-b76a-0d93b1d2ae73",
   "metadata": {},
   "outputs": [],
   "source": [
    "payment_sum_df['ratio'] = payment_sum_df.apply(get_ratio, axis=1)"
   ]
  },
  {
   "cell_type": "code",
   "execution_count": 34,
   "id": "237a50e3-3450-485b-b0cf-e1010dc9ffa0",
   "metadata": {},
   "outputs": [
    {
     "data": {
      "text/plain": [
       "<AxesSubplot:xlabel='quarter', ylabel='ratio'>"
      ]
     },
     "execution_count": 34,
     "metadata": {},
     "output_type": "execute_result"
    },
    {
     "data": {
      "image/png": "[encoded data removed]",
      "text/plain": [
       "<Figure size 1130.4x595.44 with 1 Axes>"
      ]
     },
     "metadata": {},
     "output_type": "display_data"
    }
   ],
   "source": [
    "sns.barplot(data=payment_sum_df, x='quarter', y='ratio', hue='payment_type')"
   ]
  },
  {
   "cell_type": "markdown",
   "id": "375f2afd-2671-4d97-8605-7254b25bfce8",
   "metadata": {},
   "source": [
    "Karena data di triwulan akhir 2016 cukup berbeda dengan data setelahnya, maka untuk mempermudah analisa kita hanya akan melihat nilai rata-rata transaksi dari tahun 2017."
   ]
  },
  {
   "cell_type": "code",
   "execution_count": 35,
   "id": "6dcbf8f0-84ad-45aa-a0f5-567c10702ec5",
   "metadata": {},
   "outputs": [],
   "source": [
    "after_2017_summary_df = payment_sum_df[payment_sum_df.quarter >= '2017.1']"
   ]
  },
  {
   "cell_type": "code",
   "execution_count": 36,
   "id": "b34f0f81-df06-4a50-a37d-905f474c2320",
   "metadata": {},
   "outputs": [
    {
     "data": {
      "text/plain": [
       "<AxesSubplot:xlabel='quarter', ylabel='ratio'>"
      ]
     },
     "execution_count": 36,
     "metadata": {},
     "output_type": "execute_result"
    },
    {
     "data": {
      "image/png": "[encoded data removed]",
      "text/plain": [
       "<Figure size 1130.4x595.44 with 1 Axes>"
      ]
     },
     "metadata": {},
     "output_type": "display_data"
    }
   ],
   "source": [
    "sns.barplot(data=after_2017_summary_df, x='quarter', y='ratio', hue='payment_type')"
   ]
  },
  {
   "cell_type": "markdown",
   "id": "86c2fed3-d918-495c-9321-2c1f62e59f07",
   "metadata": {},
   "source": [
    "Dari grafik ini diketahui bahwa pengguna kartu debit adalah yang paling tinggi nilai transaksinya untuk tiap pembayaran.\n",
    "Sehingga untuk menaikkan revenue ada 2 cara yang dapat dilakukan yaitu:\n",
    "\n",
    "1. Memberikan stimulus agar para pengguna kartu kredit membelanjakan lebih banyak pada setiap transaksi\n",
    "2. Memberikan stimulus agar pengguna kartu debit melakukan transaksi lebih banyak dengan nilai transaksi yang tidak jauh berbeda dengan saat ini"
   ]
  },
  {
   "cell_type": "markdown",
   "id": "1e57c501-842d-49fb-ae4c-de62fa4d33c1",
   "metadata": {
    "tags": []
   },
   "source": [
    "# Analisa Korelasi Antara Review Dengan Ketepatan Perkiraan Pengiriman"
   ]
  },
  {
   "cell_type": "markdown",
   "id": "e1c86703-79d3-4d8b-a5bf-d2198f9bc7b4",
   "metadata": {},
   "source": [
    "Asumsi yang ada adalah, untuk order yang berhasil tersampaikan pada konsumen, pengaruh utama dari review negatif adalah lamanya pengiriman."
   ]
  },
  {
   "cell_type": "code",
   "execution_count": 37,
   "id": "89434110-b70e-4a67-a43c-df188e60ddf5",
   "metadata": {},
   "outputs": [],
   "source": [
    "used_columns =['order_id', 'quarter', 'order_estimated_delivery_date', 'order_delivered_customer_date', 'review_score'] \n",
    "delivery_df = olist_df[(olist_df.order_status=='delivered') & (olist_df.order_delivered_customer_date.notnull())][used_columns]"
   ]
  },
  {
   "cell_type": "code",
   "execution_count": 38,
   "id": "08e27245-5e78-462b-b2aa-ad0babeb691f",
   "metadata": {},
   "outputs": [],
   "source": [
    "renamed_columns = {\n",
    "    'order_id':'order',\n",
    "    'order_estimated_delivery_date': 'estimated',\n",
    "    'order_delivered_customer_date': 'actual',\n",
    "    'review_score': 'review'\n",
    "}\n",
    "delivery_df.rename(mapper=renamed_columns, axis=1, inplace=True)"
   ]
  },
  {
   "cell_type": "code",
   "execution_count": 39,
   "id": "2e2200db-5a6e-446f-9f33-6d1fc209cf60",
   "metadata": {},
   "outputs": [
    {
     "data": {
      "text/html": [
       "<div>\n",
       "<style scoped>\n",
       "    .dataframe tbody tr th:only-of-type {\n",
       "        vertical-align: middle;\n",
       "    }\n",
       "\n",
       "    .dataframe tbody tr th {\n",
       "        vertical-align: top;\n",
       "    }\n",
       "\n",
       "    .dataframe thead th {\n",
       "        text-align: right;\n",
       "    }\n",
       "</style>\n",
       "<table border=\"1\" class=\"dataframe\">\n",
       "  <thead>\n",
       "    <tr style=\"text-align: right;\">\n",
       "      <th></th>\n",
       "      <th>order</th>\n",
       "      <th>quarter</th>\n",
       "      <th>estimated</th>\n",
       "      <th>actual</th>\n",
       "      <th>review</th>\n",
       "    </tr>\n",
       "  </thead>\n",
       "  <tbody>\n",
       "    <tr>\n",
       "      <th>29756</th>\n",
       "      <td>89f586f0cbddc6428831c41c8c333c66</td>\n",
       "      <td>2016.4</td>\n",
       "      <td>2016-12-02 00:00:00</td>\n",
       "      <td>2016-10-17 02:55:39</td>\n",
       "      <td>5.0</td>\n",
       "    </tr>\n",
       "    <tr>\n",
       "      <th>13250</th>\n",
       "      <td>a241bea87dcdd0160ca94ebdba5bdbb9</td>\n",
       "      <td>2016.4</td>\n",
       "      <td>2016-11-28 00:00:00</td>\n",
       "      <td>2016-10-13 16:03:06</td>\n",
       "      <td>5.0</td>\n",
       "    </tr>\n",
       "    <tr>\n",
       "      <th>72344</th>\n",
       "      <td>7559c51df991c6861e6a8be5fb1e3751</td>\n",
       "      <td>2016.4</td>\n",
       "      <td>2016-12-01 00:00:00</td>\n",
       "      <td>2016-10-26 14:47:42</td>\n",
       "      <td>3.0</td>\n",
       "    </tr>\n",
       "    <tr>\n",
       "      <th>17439</th>\n",
       "      <td>ad1aeeb1a99c9f021e38a49865bb812c</td>\n",
       "      <td>2016.4</td>\n",
       "      <td>2016-12-09 00:00:00</td>\n",
       "      <td>2016-10-26 13:31:53</td>\n",
       "      <td>5.0</td>\n",
       "    </tr>\n",
       "    <tr>\n",
       "      <th>103471</th>\n",
       "      <td>9d664ec86be69d869bb6870294c4fdd8</td>\n",
       "      <td>2016.4</td>\n",
       "      <td>2016-12-12 00:00:00</td>\n",
       "      <td>2016-10-31 11:35:45</td>\n",
       "      <td>4.0</td>\n",
       "    </tr>\n",
       "  </tbody>\n",
       "</table>\n",
       "</div>"
      ],
      "text/plain": [
       "                                   order quarter            estimated  \\\n",
       "29756   89f586f0cbddc6428831c41c8c333c66  2016.4  2016-12-02 00:00:00   \n",
       "13250   a241bea87dcdd0160ca94ebdba5bdbb9  2016.4  2016-11-28 00:00:00   \n",
       "72344   7559c51df991c6861e6a8be5fb1e3751  2016.4  2016-12-01 00:00:00   \n",
       "17439   ad1aeeb1a99c9f021e38a49865bb812c  2016.4  2016-12-09 00:00:00   \n",
       "103471  9d664ec86be69d869bb6870294c4fdd8  2016.4  2016-12-12 00:00:00   \n",
       "\n",
       "                     actual  review  \n",
       "29756   2016-10-17 02:55:39     5.0  \n",
       "13250   2016-10-13 16:03:06     5.0  \n",
       "72344   2016-10-26 14:47:42     3.0  \n",
       "17439   2016-10-26 13:31:53     5.0  \n",
       "103471  2016-10-31 11:35:45     4.0  "
      ]
     },
     "execution_count": 39,
     "metadata": {},
     "output_type": "execute_result"
    }
   ],
   "source": [
    "delivery_df.head()"
   ]
  },
  {
   "cell_type": "code",
   "execution_count": 40,
   "id": "3ecdb880-4bc2-4fc2-be1e-36fc7dd347c9",
   "metadata": {},
   "outputs": [
    {
     "data": {
      "text/plain": [
       "review\n",
       "1.0     9846\n",
       "2.0     3093\n",
       "3.0     8314\n",
       "4.0    19848\n",
       "5.0    59540\n",
       "Name: order, dtype: int64"
      ]
     },
     "execution_count": 40,
     "metadata": {},
     "output_type": "execute_result"
    }
   ],
   "source": [
    "delivery_df.groupby('review')['order'].count()"
   ]
  },
  {
   "cell_type": "markdown",
   "id": "a445cc30-9523-422a-93ae-8bbc9b8c479b",
   "metadata": {},
   "source": [
    "Kita akan menghitung selisih dari perkiraan sampai dengan aktual sampainya paket ke tangan konsumen.\n",
    "Semakin besar nilai delivery_diff, maka paket sampai ke konsumen lebih lama."
   ]
  },
  {
   "cell_type": "code",
   "execution_count": 43,
   "id": "3b2af2b4-16c1-42e2-b3cb-cc982fcf2d1d",
   "metadata": {},
   "outputs": [],
   "source": [
    "def define_differences(row):\n",
    "    if row['actual']<row['estimated']:\n",
    "        return 0\n",
    "    \n",
    "    estimated = datetime.strptime(row['estimated'], '%Y-%m-%d %H:%M:%S')\n",
    "    actual = datetime.strptime(row['actual'], '%Y-%m-%d %H:%M:%S')\n",
    "    delta = actual - estimated\n",
    "    return delta.days"
   ]
  },
  {
   "cell_type": "code",
   "execution_count": 44,
   "id": "31c985c6-a087-4ce7-b1b0-d79eaa7505cf",
   "metadata": {},
   "outputs": [],
   "source": [
    "delivery_df['delivery_diff'] = delivery_df.apply(define_differences, axis=1)"
   ]
  },
  {
   "cell_type": "code",
   "execution_count": 51,
   "id": "1413ce2f-61f4-4996-8c33-e3dca9540c5c",
   "metadata": {},
   "outputs": [
    {
     "data": {
      "text/plain": [
       "<AxesSubplot:xlabel='review', ylabel='delivery_diff'>"
      ]
     },
     "execution_count": 51,
     "metadata": {},
     "output_type": "execute_result"
    },
    {
     "data": {
      "image/png": "[encoded data removed]",
      "text/plain": [
       "<Figure size 1130.4x595.44 with 1 Axes>"
      ]
     },
     "metadata": {},
     "output_type": "display_data"
    }
   ],
   "source": [
    "review_delivery_diff_df = delivery_df.groupby('review')['delivery_diff'].mean().reset_index()\n",
    "sns.barplot(data = review_delivery_diff_df, x='review', y='delivery_diff')"
   ]
  },
  {
   "cell_type": "markdown",
   "id": "25b8bb50-8a8d-4dba-90ff-ac5455ef8e64",
   "metadata": {},
   "source": [
    "Dari grafik ini kita dapat melihat bahwa keterlambatan memang menentukan review pengguna.\n",
    "Namun tidak cukup signifikan untuk dilakukan pengambilan keputusan.\n",
    "Karena dapat dilihat bahwa antara review dengan bintan 5, 4, dan 3 masih berada dalam selisih 1 hari pengiriman.\n",
    "Yang paling terlihat memang keterlambatan untuk review bintang 1, dimana umumnya terlambat lebih dari 4 hari."
   ]
  },
  {
   "cell_type": "markdown",
   "id": "c7217467-b4fb-484b-bf97-4e096575f42a",
   "metadata": {},
   "source": [
    "Sehingga dari kesimpulan diatas, kita tidak dapat menggunakan variabel keterlambatan order untuk perbaikan review."
   ]
  },
  {
   "cell_type": "markdown",
   "id": "0e91933b-53c9-48da-b0f3-e02049ada381",
   "metadata": {},
   "source": [
    "# Analisa Korelasi Antara Review Dengan Status Order"
   ]
  },
  {
   "cell_type": "code",
   "execution_count": 53,
   "id": "fb1a7615-318a-452b-9870-48a1f0ac1e14",
   "metadata": {},
   "outputs": [],
   "source": [
    "used_columns =['order_id', 'order_status', 'review_score'] \n",
    "status_df = olist_df[olist_df.review_score.notnull()][used_columns]"
   ]
  },
  {
   "cell_type": "code",
   "execution_count": 54,
   "id": "f1d66b5a-c0af-4c04-a2fa-952e42d38320",
   "metadata": {},
   "outputs": [],
   "source": [
    "renamed_columns = {\n",
    "    'order_id':'order',\n",
    "    'order_status': 'status',\n",
    "    'review_score': 'review'\n",
    "}\n",
    "status_df.rename(mapper=renamed_columns, axis=1, inplace=True)"
   ]
  },
  {
   "cell_type": "code",
   "execution_count": 55,
   "id": "089111b0-1728-43be-9f8d-5b9c3405501d",
   "metadata": {},
   "outputs": [],
   "source": [
    "status_review_df = status_df.groupby('status')['review'].median().reset_index().sort_values('review')"
   ]
  },
  {
   "cell_type": "code",
   "execution_count": 56,
   "id": "6dc6b173-bd6f-4703-b64c-196de77a27d5",
   "metadata": {},
   "outputs": [
    {
     "data": {
      "text/plain": [
       "<AxesSubplot:xlabel='status', ylabel='review'>"
      ]
     },
     "execution_count": 56,
     "metadata": {},
     "output_type": "execute_result"
    },
    {
     "data": {
      "image/png": "[encoded data removed]",
      "text/plain": [
       "<Figure size 1130.4x595.44 with 1 Axes>"
      ]
     },
     "metadata": {},
     "output_type": "display_data"
    }
   ],
   "source": [
    "sns.barplot(data=status_review_df, x='status', y='review')"
   ]
  },
  {
   "cell_type": "markdown",
   "id": "6c3290cf-f4ae-4cad-9008-5aac52f9d5d1",
   "metadata": {},
   "source": [
    "Dari sini terlihat bahwa order yang pasti berakibat buruk terhadap review adalah order dengan status akhir:\n",
    "\n",
    "1. canceled\n",
    "2. created\n",
    "3. invoiced\n",
    "4. processing\n",
    "5. shipped\n",
    "6. unavailable\n",
    "\n",
    "Sehingga kita perlu melakukan analisa lebih jauh terhadap data-data order yang lampau dengan 6 status tadi."
   ]
  },
  {
   "cell_type": "code",
   "execution_count": null,
   "id": "ccaa7970-0326-4b14-b49d-614b9c7a0314",
   "metadata": {},
   "outputs": [],
   "source": []
  }
 ],
 "metadata": {
  "kernelspec": {
   "display_name": "Python 3 (ipykernel)",
   "language": "python",
   "name": "python3"
  },
  "language_info": {
   "codemirror_mode": {
    "name": "ipython",
    "version": 3
   },
   "file_extension": ".py",
   "mimetype": "text/x-python",
   "name": "python",
   "nbconvert_exporter": "python",
   "pygments_lexer": "ipython3",
   "version": "3.8.10"
  }
 },
 "nbformat": 4,
 "nbformat_minor": 5
}
